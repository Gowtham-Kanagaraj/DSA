{
 "cells": [
  {
   "cell_type": "code",
   "execution_count": 3,
   "id": "8306e555-c454-4794-be0f-ee8287314197",
   "metadata": {},
   "outputs": [],
   "source": [
    "#Assignment\n",
    "\n",
    "# Sample input\n",
    "# 4\n",
    "# -4 2 5 10\n",
    "\n",
    "# Sample Output\n",
    "# 4 16 25 100"
   ]
  },
  {
   "cell_type": "code",
   "execution_count": 5,
   "id": "9a5831ce-a907-487f-b576-e6152fa88210",
   "metadata": {},
   "outputs": [
    {
     "name": "stdin",
     "output_type": "stream",
     "text": [
      " 4\n"
     ]
    }
   ],
   "source": [
    "n  = int(input())"
   ]
  },
  {
   "cell_type": "code",
   "execution_count": 9,
   "id": "207d117f-5f6a-441d-a5d0-aa195f71d7b8",
   "metadata": {},
   "outputs": [
    {
     "name": "stdin",
     "output_type": "stream",
     "text": [
      " -4 2 5 10\n"
     ]
    }
   ],
   "source": [
    "x = input().split()"
   ]
  },
  {
   "cell_type": "code",
   "execution_count": 11,
   "id": "6ba8a311-841d-4958-a3b2-365cc3dcc927",
   "metadata": {},
   "outputs": [],
   "source": [
    "square = []"
   ]
  },
  {
   "cell_type": "code",
   "execution_count": 12,
   "id": "b416ebda-5410-4637-ad43-9e0f87c35578",
   "metadata": {},
   "outputs": [],
   "source": [
    "for i in x:\n",
    "    square.append(int(i) ** 2)"
   ]
  },
  {
   "cell_type": "code",
   "execution_count": 13,
   "id": "ae198f74-5c52-4fe1-87d1-dcf2ec39e2ef",
   "metadata": {},
   "outputs": [
    {
     "data": {
      "text/plain": [
       "[16, 4, 25, 100]"
      ]
     },
     "execution_count": 13,
     "metadata": {},
     "output_type": "execute_result"
    }
   ],
   "source": [
    "square"
   ]
  },
  {
   "cell_type": "code",
   "execution_count": 14,
   "id": "b7abf275-3e22-4a95-b599-c8cb5914df45",
   "metadata": {},
   "outputs": [
    {
     "name": "stdout",
     "output_type": "stream",
     "text": [
      "4 16 25 100 "
     ]
    }
   ],
   "source": [
    "for i in sorted(square):\n",
    "    print(f\"{i}\", end = \" \")"
   ]
  },
  {
   "cell_type": "code",
   "execution_count": null,
   "id": "40e803e7-5b64-4744-a07b-b0e94e46d63a",
   "metadata": {},
   "outputs": [],
   "source": [
    "# Approach 2 : Two pointers"
   ]
  },
  {
   "cell_type": "code",
   "execution_count": 18,
   "id": "9bca6b6c-f712-4349-8d2f-f087f8c08ede",
   "metadata": {},
   "outputs": [
    {
     "name": "stdin",
     "output_type": "stream",
     "text": [
      " 4\n"
     ]
    }
   ],
   "source": [
    "n = int(input())"
   ]
  },
  {
   "cell_type": "code",
   "execution_count": 16,
   "id": "80b9c87d-a8be-4ff3-8c42-91814876a943",
   "metadata": {},
   "outputs": [
    {
     "name": "stdin",
     "output_type": "stream",
     "text": [
      " -4 2 5 10\n"
     ]
    }
   ],
   "source": [
    "x =  input().split()"
   ]
  },
  {
   "cell_type": "code",
   "execution_count": 25,
   "id": "8831a281-a32c-4ee6-832c-e4f862b930b3",
   "metadata": {},
   "outputs": [],
   "source": [
    "result = [0] * n\n",
    "l = 0\n",
    "r = n - 1\n",
    "i = n - 1 # index\n",
    "while(l<=r):\n",
    "    square_root_of_l = int(x[l]) * int(x[l])\n",
    "    square_root_of_r = int(x[r]) * int(x[r])\n",
    "\n",
    "    if(square_root_of_l < square_root_of_r):\n",
    "        result[i] = square_root_of_r\n",
    "        r -= 1\n",
    "    else:\n",
    "        result[i] =  square_root_of_l\n",
    "        l += 1\n",
    "\n",
    "    i -= 1   "
   ]
  },
  {
   "cell_type": "code",
   "execution_count": 26,
   "id": "fa57011d-5580-4fb7-ad6d-552fe55e1cd3",
   "metadata": {},
   "outputs": [
    {
     "data": {
      "text/plain": [
       "[4, 16, 25, 100]"
      ]
     },
     "execution_count": 26,
     "metadata": {},
     "output_type": "execute_result"
    }
   ],
   "source": [
    "result"
   ]
  },
  {
   "cell_type": "code",
   "execution_count": 27,
   "id": "37a836e4-e121-4469-8d88-27059e9f8961",
   "metadata": {},
   "outputs": [
    {
     "name": "stdout",
     "output_type": "stream",
     "text": [
      "4 16 25 100\n"
     ]
    }
   ],
   "source": [
    "result_string = ' '.join(map(str, result))\n",
    "print(result_string)\n"
   ]
  },
  {
   "cell_type": "code",
   "execution_count": null,
   "id": "a3ab6512-ab89-4d86-b30a-5fe1042cbac0",
   "metadata": {},
   "outputs": [],
   "source": []
  },
  {
   "cell_type": "code",
   "execution_count": null,
   "id": "b7a4bc39-82df-4266-a10e-ee020403e4fd",
   "metadata": {},
   "outputs": [],
   "source": [
    "# https://leetcode.com/problems/squares-of-a-sorted-array/"
   ]
  },
  {
   "cell_type": "code",
   "execution_count": null,
   "id": "b6152f94-d4dd-4832-b1b0-26231c90028a",
   "metadata": {},
   "outputs": [],
   "source": []
  },
  {
   "cell_type": "code",
   "execution_count": null,
   "id": "1cf1f713-3862-4b92-bc07-0398f1187508",
   "metadata": {},
   "outputs": [],
   "source": []
  },
  {
   "cell_type": "code",
   "execution_count": null,
   "id": "b1fbd8ba-3739-4e56-96e0-4a3a74fec71e",
   "metadata": {},
   "outputs": [],
   "source": []
  }
 ],
 "metadata": {
  "kernelspec": {
   "display_name": "Python 3 (ipykernel)",
   "language": "python",
   "name": "python3"
  },
  "language_info": {
   "codemirror_mode": {
    "name": "ipython",
    "version": 3
   },
   "file_extension": ".py",
   "mimetype": "text/x-python",
   "name": "python",
   "nbconvert_exporter": "python",
   "pygments_lexer": "ipython3",
   "version": "3.12.0"
  }
 },
 "nbformat": 4,
 "nbformat_minor": 5
}
