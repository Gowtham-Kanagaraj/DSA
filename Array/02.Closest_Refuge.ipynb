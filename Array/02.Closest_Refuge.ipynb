{
 "cells": [
  {
   "cell_type": "code",
   "execution_count": 2,
   "id": "ef1bd0e1-763c-4ca2-81df-d087feb27bbc",
   "metadata": {},
   "outputs": [],
   "source": [
    "#Find the first natural number that is not present in A\n",
    "#https://www.enjoyalgorithms.com/blog/first-missing-positive/"
   ]
  },
  {
   "cell_type": "code",
   "execution_count": 3,
   "id": "8302bf06-f592-43ec-b2af-bb8eb077c348",
   "metadata": {},
   "outputs": [],
   "source": [
    "# Input\n",
    "# 7\n",
    "# 6 7 5 9 3 2 8\n",
    "\n",
    "# Output\n",
    "# 1"
   ]
  },
  {
   "cell_type": "code",
   "execution_count": 4,
   "id": "11a665ae-d290-482b-9129-17f6b1c51394",
   "metadata": {},
   "outputs": [
    {
     "name": "stdin",
     "output_type": "stream",
     "text": [
      " 7\n"
     ]
    }
   ],
   "source": [
    "n = int(input())"
   ]
  },
  {
   "cell_type": "code",
   "execution_count": 5,
   "id": "18f1a16f-eb8c-4e34-b946-d15290cf35c6",
   "metadata": {},
   "outputs": [
    {
     "name": "stdin",
     "output_type": "stream",
     "text": [
      " 6 7 5 9 3 2 8\n"
     ]
    }
   ],
   "source": [
    "x = input().split()"
   ]
  },
  {
   "cell_type": "code",
   "execution_count": 6,
   "id": "b336fa2f-7286-40fd-9385-67b2e324bec2",
   "metadata": {},
   "outputs": [],
   "source": [
    "h = {}"
   ]
  },
  {
   "cell_type": "code",
   "execution_count": 7,
   "id": "350d139b-29be-439b-8e1d-61085d2850dc",
   "metadata": {},
   "outputs": [],
   "source": [
    "for i in range(n):\n",
    "    h[int(x[i])] =  True"
   ]
  },
  {
   "cell_type": "code",
   "execution_count": 8,
   "id": "d7b0aae9-ed0e-421c-8688-d4ea37c31a3b",
   "metadata": {},
   "outputs": [
    {
     "data": {
      "text/plain": [
       "{6: True, 7: True, 5: True, 9: True, 3: True, 2: True, 8: True}"
      ]
     },
     "execution_count": 8,
     "metadata": {},
     "output_type": "execute_result"
    }
   ],
   "source": [
    "h"
   ]
  },
  {
   "cell_type": "code",
   "execution_count": 12,
   "id": "88ba1aef-2a81-4d59-90d8-043d135db700",
   "metadata": {},
   "outputs": [
    {
     "name": "stdout",
     "output_type": "stream",
     "text": [
      "1\n"
     ]
    }
   ],
   "source": [
    "for i in range(1, n + 2):\n",
    "    if h.get(i, False) == False:\n",
    "        print(i)\n",
    "        break"
   ]
  },
  {
   "cell_type": "code",
   "execution_count": null,
   "id": "8f180819-4ab2-4d80-b224-e1c5ba5dd338",
   "metadata": {},
   "outputs": [],
   "source": []
  },
  {
   "cell_type": "code",
   "execution_count": 17,
   "id": "9b4fb712-f07f-496d-a030-ac2d89faa2a6",
   "metadata": {},
   "outputs": [],
   "source": [
    "# Approach 2: using set map"
   ]
  },
  {
   "cell_type": "code",
   "execution_count": null,
   "id": "24188163-a7d8-4ba7-9c56-41c87f315fdf",
   "metadata": {},
   "outputs": [],
   "source": []
  },
  {
   "cell_type": "code",
   "execution_count": 18,
   "id": "36e41216-d8c8-4951-820b-99efb3641815",
   "metadata": {},
   "outputs": [
    {
     "name": "stdin",
     "output_type": "stream",
     "text": [
      " 7\n"
     ]
    }
   ],
   "source": [
    "n = int(input())"
   ]
  },
  {
   "cell_type": "code",
   "execution_count": 19,
   "id": "6c65bf0a-99cb-47b5-ad55-bdcf6b3e4de7",
   "metadata": {},
   "outputs": [
    {
     "name": "stdin",
     "output_type": "stream",
     "text": [
      " 6 7 5 9 3 2 8\n"
     ]
    }
   ],
   "source": [
    "arr = set(map(int, input().split()))"
   ]
  },
  {
   "cell_type": "code",
   "execution_count": 20,
   "id": "37dc9f79-7680-4a6d-9f69-0f66191d90ed",
   "metadata": {},
   "outputs": [
    {
     "data": {
      "text/plain": [
       "{2, 3, 5, 6, 7, 8, 9}"
      ]
     },
     "execution_count": 20,
     "metadata": {},
     "output_type": "execute_result"
    }
   ],
   "source": [
    "arr"
   ]
  },
  {
   "cell_type": "code",
   "execution_count": 21,
   "id": "6bc849a8-5af2-4d67-bf47-a6205d9de397",
   "metadata": {},
   "outputs": [
    {
     "name": "stdout",
     "output_type": "stream",
     "text": [
      "1\n"
     ]
    }
   ],
   "source": [
    "for i in range(1, n+2):\n",
    "    if i not in arr:\n",
    "        print(i)\n",
    "        break"
   ]
  }
 ],
 "metadata": {
  "kernelspec": {
   "display_name": "Python 3 (ipykernel)",
   "language": "python",
   "name": "python3"
  },
  "language_info": {
   "codemirror_mode": {
    "name": "ipython",
    "version": 3
   },
   "file_extension": ".py",
   "mimetype": "text/x-python",
   "name": "python",
   "nbconvert_exporter": "python",
   "pygments_lexer": "ipython3",
   "version": "3.12.0"
  }
 },
 "nbformat": 4,
 "nbformat_minor": 5
}
